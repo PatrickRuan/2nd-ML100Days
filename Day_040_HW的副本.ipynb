{
  "nbformat": 4,
  "nbformat_minor": 0,
  "metadata": {
    "kernelspec": {
      "display_name": "Python 3",
      "language": "python",
      "name": "python3"
    },
    "language_info": {
      "codemirror_mode": {
        "name": "ipython",
        "version": 3
      },
      "file_extension": ".py",
      "mimetype": "text/x-python",
      "name": "python",
      "nbconvert_exporter": "python",
      "pygments_lexer": "ipython3",
      "version": "3.6.2"
    },
    "colab": {
      "name": "Day_040_HW的副本.ipynb",
      "version": "0.3.2",
      "provenance": [],
      "collapsed_sections": [],
      "include_colab_link": true
    }
  },
  "cells": [
    {
      "cell_type": "markdown",
      "metadata": {
        "id": "view-in-github",
        "colab_type": "text"
      },
      "source": [
        "<a href=\"https://colab.research.google.com/github/PatrickRuan/2nd-ML100Days/blob/master/Day_040_HW%E7%9A%84%E5%89%AF%E6%9C%AC.ipynb\" target=\"_parent\"><img src=\"https://colab.research.google.com/assets/colab-badge.svg\" alt=\"Open In Colab\"/></a>"
      ]
    },
    {
      "cell_type": "markdown",
      "metadata": {
        "id": "4AXPXXogzhzW",
        "colab_type": "text"
      },
      "source": [
        "## [作業重點]\n",
        "使用 Sklearn 中的 Lasso, Ridge 模型，來訓練各種資料集，務必了解送進去模型訓練的**資料型態**為何，也請了解模型中各項參數的意義。\n",
        "\n",
        "機器學習的模型非常多種，但要訓練的資料多半有固定的格式，確保你了解訓練資料的格式為何，這樣在應用新模型時，就能夠最快的上手開始訓練！"
      ]
    },
    {
      "cell_type": "markdown",
      "metadata": {
        "id": "6oNA7sl-zhzb",
        "colab_type": "text"
      },
      "source": [
        "## 練習時間\n",
        "試著使用 sklearn datasets 的其他資料集 (boston, ...)，來訓練自己的線性迴歸模型，並加上適當的正則話來觀察訓練情形。"
      ]
    },
    {
      "cell_type": "code",
      "metadata": {
        "id": "b00qd5VXzhzf",
        "colab_type": "code",
        "colab": {}
      },
      "source": [
        "import numpy as np\n",
        "from sklearn.model_selection import KFold, train_test_split\n",
        "from sklearn.linear_model import LogisticRegression, Lasso, Ridge, LinearRegression\n",
        "from sklearn.metrics import accuracy_score, mean_squared_error\n",
        "from sklearn import datasets"
      ],
      "execution_count": 0,
      "outputs": []
    },
    {
      "cell_type": "code",
      "metadata": {
        "id": "5I6RSuLf0NH6",
        "colab_type": "code",
        "outputId": "6da8a61d-0f1c-4ed3-bcd9-c6cfa93d40ec",
        "colab": {
          "base_uri": "https://localhost:8080/",
          "height": 141
        }
      },
      "source": [
        "boston = datasets.load_boston()\n",
        "print(boston.data)"
      ],
      "execution_count": 0,
      "outputs": [
        {
          "output_type": "stream",
          "text": [
            "[[6.3200e-03 1.8000e+01 2.3100e+00 ... 1.5300e+01 3.9690e+02 4.9800e+00]\n",
            " [2.7310e-02 0.0000e+00 7.0700e+00 ... 1.7800e+01 3.9690e+02 9.1400e+00]\n",
            " [2.7290e-02 0.0000e+00 7.0700e+00 ... 1.7800e+01 3.9283e+02 4.0300e+00]\n",
            " ...\n",
            " [6.0760e-02 0.0000e+00 1.1930e+01 ... 2.1000e+01 3.9690e+02 5.6400e+00]\n",
            " [1.0959e-01 0.0000e+00 1.1930e+01 ... 2.1000e+01 3.9345e+02 6.4800e+00]\n",
            " [4.7410e-02 0.0000e+00 1.1930e+01 ... 2.1000e+01 3.9690e+02 7.8800e+00]]\n"
          ],
          "name": "stdout"
        }
      ]
    },
    {
      "cell_type": "code",
      "metadata": {
        "id": "wc_dDDpB200v",
        "colab_type": "code",
        "colab": {}
      },
      "source": [
        ""
      ],
      "execution_count": 0,
      "outputs": []
    },
    {
      "cell_type": "code",
      "metadata": {
        "id": "Y8ZIcWQq0UaF",
        "colab_type": "code",
        "colab": {}
      },
      "source": [
        "\n",
        "X_train, X_test, y_train, y_test = train_test_split(boston.data, boston.target, test_size=0.2, random_state=43)"
      ],
      "execution_count": 0,
      "outputs": []
    },
    {
      "cell_type": "code",
      "metadata": {
        "id": "oy8gcINg0t2m",
        "colab_type": "code",
        "outputId": "6b138cc1-7560-42e3-a06b-abfb1b92c800",
        "colab": {
          "base_uri": "https://localhost:8080/",
          "height": 105
        }
      },
      "source": [
        "reg = LinearRegression()\n",
        "reg.fit(X_train, y_train)\n",
        "pred = reg.predict(X_test)\n",
        "print(f'coef. of reg is {reg.coef_}')\n",
        "print(f'mse of reg is, {mean_squared_error(y_test, pred)}')"
      ],
      "execution_count": 0,
      "outputs": [
        {
          "output_type": "stream",
          "text": [
            "coef. of reg is [-8.38540942e-02  4.92121667e-02  8.54515795e-03  2.74805637e+00\n",
            " -1.91880432e+01  3.39570396e+00  1.02258557e-02 -1.45389754e+00\n",
            "  2.97780830e-01 -1.13032017e-02 -9.75477983e-01  7.99097249e-03\n",
            " -5.84517837e-01]\n",
            "mse of reg is, 22.01861344950045\n"
          ],
          "name": "stdout"
        }
      ]
    },
    {
      "cell_type": "code",
      "metadata": {
        "id": "_3wMaPPY2AJg",
        "colab_type": "code",
        "outputId": "8d40d562-feb6-41ab-eb0c-864de3ae37e0",
        "colab": {
          "base_uri": "https://localhost:8080/",
          "height": 87
        }
      },
      "source": [
        "regL1 = Lasso()\n",
        "regL1.fit(X_train, y_train)\n",
        "pred = regL1.predict(X_test)\n",
        "print(f'coef. of regL1 is {regL1.coef_}')\n",
        "print(f'mse of regL1 is, {mean_squared_error(y_test, pred)}')"
      ],
      "execution_count": 0,
      "outputs": [
        {
          "output_type": "stream",
          "text": [
            "coef. of regL1 is [-0.04088362  0.05751707 -0.          0.         -0.          0.59285995\n",
            "  0.03319793 -0.57067996  0.27870338 -0.01594815 -0.76358845  0.00831679\n",
            " -0.81382874]\n",
            "mse of regL1 is, 29.831894847003777\n"
          ],
          "name": "stdout"
        }
      ]
    },
    {
      "cell_type": "code",
      "metadata": {
        "id": "jmr6unyI2AWy",
        "colab_type": "code",
        "outputId": "6b637193-ac08-4e04-8a2a-8be4237d7852",
        "colab": {
          "base_uri": "https://localhost:8080/",
          "height": 105
        }
      },
      "source": [
        "regL2 = Ridge()\n",
        "regL2.fit(X_train, y_train)\n",
        "pred = regL2.predict(X_test)\n",
        "print(f'coef. of regL2 is {regL2.coef_}')\n",
        "print(f'mse of regL2 is, {mean_squared_error(y_test, pred)}')"
      ],
      "execution_count": 0,
      "outputs": [
        {
          "output_type": "stream",
          "text": [
            "coef. of regL2 is [-7.82562830e-02  5.11551292e-02 -2.96111555e-02  2.63921803e+00\n",
            " -1.05522726e+01  3.43583813e+00  2.30269132e-03 -1.33561735e+00\n",
            "  2.80047124e-01 -1.20432815e-02 -8.88244871e-01  8.77509022e-03\n",
            " -5.89841081e-01]\n",
            "mse of regL2 is, 21.890670950212623\n"
          ],
          "name": "stdout"
        }
      ]
    }
  ]
}